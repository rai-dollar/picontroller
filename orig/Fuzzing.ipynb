{
 "cells": [
  {
   "cell_type": "code",
   "execution_count": 1,
   "id": "6b35b834-dceb-4ed8-8319-64198b27d6bf",
   "metadata": {},
   "outputs": [],
   "source": [
    "#import solcx\n",
    "#solcx.install_solc('0.8.28')"
   ]
  },
  {
   "cell_type": "code",
   "execution_count": 2,
   "id": "99740bfc-1076-4a13-aa71-c6e2afc0c82d",
   "metadata": {},
   "outputs": [],
   "source": [
    "#%pip install ape-solidity"
   ]
  },
  {
   "cell_type": "code",
   "execution_count": 3,
   "id": "55a731a6-cddf-4603-a08d-bc6c42d49a96",
   "metadata": {},
   "outputs": [],
   "source": [
    "#%pip install eth-tester"
   ]
  },
  {
   "cell_type": "code",
   "execution_count": 4,
   "id": "7efe6c6b-ba7a-44ba-a429-95d2696617ae",
   "metadata": {},
   "outputs": [],
   "source": [
    "import shutil\n",
    "import time\n",
    "import pandas as pd\n",
    "import random"
   ]
  },
  {
   "cell_type": "code",
   "execution_count": 5,
   "id": "31840f00-0ffa-4386-b5ff-b4dc3746679a",
   "metadata": {},
   "outputs": [],
   "source": [
    "from ape import project\n",
    "from ape import Project\n",
    "from ape import networks\n",
    "\n",
    "from ape import chain\n",
    "from ape import accounts\n",
    "\n",
    "from ape.logging import logger, LogLevel\n",
    "\n",
    "\n",
    "logger.set_level(LogLevel.WARNING)\n",
    "sender = accounts.test_accounts[0]"
   ]
  },
  {
   "cell_type": "code",
   "execution_count": 6,
   "id": "867c10ce-0c39-4aaf-bef0-acd46c32f58e",
   "metadata": {},
   "outputs": [
    {
     "name": "stdout",
     "output_type": "stream",
     "text": [
      "can't delete\n"
     ]
    }
   ],
   "source": [
    "#orig = Project('.')\n",
    "#a = orig.get_contract('PIController.sol')\n",
    "try:\n",
    "    shutil.rmtree(\"src/.ipynb_checkpoints\")\n",
    "except:\n",
    "    print(\"can't delete\")\n",
    "    pass\n",
    "old_pi = project.get_contract(\"PIController\") "
   ]
  },
  {
   "cell_type": "code",
   "execution_count": 7,
   "id": "2bd871ba-cbd9-42a5-a4c0-75cf25e2f1cd",
   "metadata": {},
   "outputs": [],
   "source": [
    "new_pi = project.get_contract(\"PIControllerNew\") "
   ]
  },
  {
   "cell_type": "code",
   "execution_count": 8,
   "id": "a93438fa-09b1-4ba6-bd13-9b11a6e2180c",
   "metadata": {},
   "outputs": [],
   "source": [
    "rpc = 'foundry'"
   ]
  },
  {
   "cell_type": "code",
   "execution_count": null,
   "id": "45c32f81-9d75-4975-9b64-e5e6fc7f2149",
   "metadata": {},
   "outputs": [],
   "source": []
  },
  {
   "cell_type": "code",
   "execution_count": 9,
   "id": "690a4647-acdb-4de5-8cf0-f0496c75f80b",
   "metadata": {},
   "outputs": [
    {
     "ename": "ChainError",
     "evalue": "'0xa1001a55aad9c6487d189993ff04ee9400ed59efcb0cf80c85ea0770d2dcefc3' did not create a contract.",
     "output_type": "error",
     "traceback": [
      "\u001b[0;31m---------------------------------------------------------------------------\u001b[0m",
      "\u001b[0;31mChainError\u001b[0m                                Traceback (most recent call last)",
      "Cell \u001b[0;32mIn[9], line 15\u001b[0m\n\u001b[1;32m     13\u001b[0m importedState \u001b[38;5;241m=\u001b[39m [\u001b[38;5;241m0\u001b[39m,\u001b[38;5;241m0\u001b[39m,\u001b[38;5;241m0\u001b[39m]\n\u001b[1;32m     14\u001b[0m \u001b[38;5;28;01mwith\u001b[39;00m networks\u001b[38;5;241m.\u001b[39methereum\u001b[38;5;241m.\u001b[39mlocal\u001b[38;5;241m.\u001b[39muse_provider(rpc):\n\u001b[0;32m---> 15\u001b[0m     old_pi_c \u001b[38;5;241m=\u001b[39m \u001b[43mold_pi\u001b[49m\u001b[38;5;241;43m.\u001b[39;49m\u001b[43mdeploy\u001b[49m\u001b[43m(\u001b[49m\n\u001b[1;32m     16\u001b[0m \u001b[43m            \u001b[49m\u001b[38;5;124;43mb\u001b[39;49m\u001b[38;5;124;43m'\u001b[39;49m\u001b[38;5;124;43mtest control variable\u001b[39;49m\u001b[38;5;124;43m'\u001b[39;49m\u001b[43m,\u001b[49m\n\u001b[1;32m     17\u001b[0m \u001b[43m            \u001b[49m\u001b[43mkp\u001b[49m\u001b[43m,\u001b[49m\n\u001b[1;32m     18\u001b[0m \u001b[43m            \u001b[49m\u001b[43mki\u001b[49m\u001b[43m,\u001b[49m\n\u001b[1;32m     19\u001b[0m \u001b[43m            \u001b[49m\u001b[43mcoBias\u001b[49m\u001b[43m,\u001b[49m\n\u001b[1;32m     20\u001b[0m \u001b[43m            \u001b[49m\u001b[43mperSecondIntegralLeak\u001b[49m\u001b[43m,\u001b[49m\n\u001b[1;32m     21\u001b[0m \u001b[43m            \u001b[49m\u001b[43moutputUpperBound\u001b[49m\u001b[43m,\u001b[49m\n\u001b[1;32m     22\u001b[0m \u001b[43m            \u001b[49m\u001b[43moutputLowerBound\u001b[49m\u001b[43m,\u001b[49m\n\u001b[1;32m     23\u001b[0m \u001b[43m            \u001b[49m\u001b[43mimportedState\u001b[49m\u001b[43m,\u001b[49m\n\u001b[1;32m     24\u001b[0m \u001b[43m            \u001b[49m\u001b[43msender\u001b[49m\u001b[38;5;241;43m=\u001b[39;49m\u001b[43msender\u001b[49m\n\u001b[1;32m     25\u001b[0m \u001b[43m          \u001b[49m\u001b[43m)\u001b[49m\n",
      "File \u001b[0;32m~/github/pidcontroller/venv/lib/python3.11/site-packages/ape/contracts/base.py:1573\u001b[0m, in \u001b[0;36mContractContainer.deploy\u001b[0;34m(self, publish, *args, **kwargs)\u001b[0m\n\u001b[1;32m   1571\u001b[0m address \u001b[38;5;241m=\u001b[39m receipt\u001b[38;5;241m.\u001b[39mcontract_address\n\u001b[1;32m   1572\u001b[0m \u001b[38;5;28;01mif\u001b[39;00m \u001b[38;5;129;01mnot\u001b[39;00m address:\n\u001b[0;32m-> 1573\u001b[0m     \u001b[38;5;28;01mraise\u001b[39;00m ChainError(\u001b[38;5;124mf\u001b[39m\u001b[38;5;124m\"\u001b[39m\u001b[38;5;124m'\u001b[39m\u001b[38;5;132;01m{\u001b[39;00mreceipt\u001b[38;5;241m.\u001b[39mtxn_hash\u001b[38;5;132;01m}\u001b[39;00m\u001b[38;5;124m'\u001b[39m\u001b[38;5;124m did not create a contract.\u001b[39m\u001b[38;5;124m\"\u001b[39m)\n\u001b[1;32m   1575\u001b[0m styled_address \u001b[38;5;241m=\u001b[39m click\u001b[38;5;241m.\u001b[39mstyle(receipt\u001b[38;5;241m.\u001b[39mcontract_address, bold\u001b[38;5;241m=\u001b[39m\u001b[38;5;28;01mTrue\u001b[39;00m)\n\u001b[1;32m   1576\u001b[0m contract_name \u001b[38;5;241m=\u001b[39m \u001b[38;5;28mself\u001b[39m\u001b[38;5;241m.\u001b[39mcontract_type\u001b[38;5;241m.\u001b[39mname \u001b[38;5;129;01mor\u001b[39;00m \u001b[38;5;124m\"\u001b[39m\u001b[38;5;124m<Unnamed Contract>\u001b[39m\u001b[38;5;124m\"\u001b[39m\n",
      "\u001b[0;31mChainError\u001b[0m: '0xa1001a55aad9c6487d189993ff04ee9400ed59efcb0cf80c85ea0770d2dcefc3' did not create a contract."
     ]
    }
   ],
   "source": [
    "kp = 222002205862\n",
    "ki = 25000\n",
    "\n",
    "kp = 222002205862000000\n",
    "ki = 250000000000000000\n",
    "\n",
    "coBias = 0\n",
    "perSecondIntegralLeak = 999997208243937652252849536 #1% per hour\n",
    "#perSecondIntegralLeak = int(10**27)\n",
    "outputUpperBound = 18640000000000000000\n",
    "outputLowerBound = -51034000000000000000\n",
    "\n",
    "importedState = [0,0,0]\n",
    "with networks.ethereum.local.use_provider(rpc):\n",
    "    old_pi_c = old_pi.deploy(\n",
    "            b'test control variable',\n",
    "            kp,\n",
    "            ki,\n",
    "            coBias,\n",
    "            perSecondIntegralLeak,\n",
    "            outputUpperBound,\n",
    "            outputLowerBound,\n",
    "            importedState,\n",
    "            sender=sender\n",
    "          )"
   ]
  },
  {
   "cell_type": "code",
   "execution_count": null,
   "id": "dd628b63-94ee-46e6-8b65-3bec99ac4a77",
   "metadata": {},
   "outputs": [],
   "source": [
    "with networks.ethereum.local.use_provider(rpc):\n",
    "    new_pi_c = new_pi.deploy(\n",
    "            b'test control variable',\n",
    "            kp,\n",
    "            ki,\n",
    "            coBias,\n",
    "            perSecondIntegralLeak,\n",
    "            outputUpperBound,\n",
    "            outputLowerBound,\n",
    "            importedState,\n",
    "            sender=sender\n",
    "          )"
   ]
  },
  {
   "cell_type": "code",
   "execution_count": null,
   "id": "331dc2de-034b-42c4-ab98-827a130400f4",
   "metadata": {},
   "outputs": [],
   "source": []
  },
  {
   "cell_type": "code",
   "execution_count": null,
   "id": "61ff982e-7dff-48f5-80a4-bf2dfe861d08",
   "metadata": {},
   "outputs": [],
   "source": [
    "with networks.ethereum.local.use_provider(rpc):\n",
    "    new_pi_c.modifyParametersAddr('seedProposer',  sender, sender=sender)"
   ]
  },
  {
   "cell_type": "code",
   "execution_count": null,
   "id": "acbfc82c-17ca-4e0b-94b5-83b3846c907c",
   "metadata": {},
   "outputs": [],
   "source": [
    "# not workinging, so commented out seedProposer requirement\n",
    "#with networks.ethereum.local.use_provider(\"test\"):\n",
    "#    old_pi_c.modifyParameters(b\"seedProposer\",  sender, sender=sender)"
   ]
  },
  {
   "cell_type": "code",
   "execution_count": null,
   "id": "bd33e9eb-9ea3-4749-bcdf-963a2e3afe55",
   "metadata": {},
   "outputs": [],
   "source": [
    "random.randint(1, 2**256)"
   ]
  },
  {
   "cell_type": "code",
   "execution_count": null,
   "id": "b76d074a-998b-40a7-9189-7fb43af84798",
   "metadata": {},
   "outputs": [],
   "source": [
    "n = 20\n",
    "data = []\n",
    "for _ in range(n):\n",
    "    data.append([random.randint(1, 2**256), random.randint(1, 2**256), random.randint(1, 2**256)])"
   ]
  },
  {
   "cell_type": "code",
   "execution_count": null,
   "id": "5ad68668-8cbc-4f33-bcf3-30019b6385f7",
   "metadata": {},
   "outputs": [],
   "source": [
    "n = len(data)\n",
    "old_values = []\n",
    "new_values = []"
   ]
  },
  {
   "cell_type": "code",
   "execution_count": null,
   "id": "5c96b66e-3ff8-4818-9e50-c71d9c6588bf",
   "metadata": {},
   "outputs": [],
   "source": [
    "with networks.ethereum.local.use_provider(rpc):\n",
    "    chain.provider.auto_mine = False\n",
    "    for a,b,c in data:\n",
    "        val = old_pi_c.rpower(a, b, c)\n",
    "        old_values.append(val)\n"
   ]
  },
  {
   "cell_type": "code",
   "execution_count": null,
   "id": "4fe303ec-ae4f-4a6c-9970-68da3617d806",
   "metadata": {},
   "outputs": [],
   "source": [
    "with networks.ethereum.local.use_provider(rpc):\n",
    "    chain.provider.auto_mine = False\n",
    "    for a,b,c in data:\n",
    "        val = new_pi_c.my_exp_uint256_external(a, b, c)\n",
    "        new_values.append(val)"
   ]
  },
  {
   "cell_type": "code",
   "execution_count": null,
   "id": "bfa35711-5475-489e-b90c-e0fc4371451d",
   "metadata": {},
   "outputs": [],
   "source": [
    "df_new = pd.DataFrame(new_values, columns = ['output_new', 'p_output_new', 'i_output_new', 'ts_new'])\n",
    "df_old = pd.DataFrame(old_values, columns = ['output_old', 'p_output_old', 'i_output_old', 'ts_old'])\n",
    "#df = pd.DataFrame(values, columns = ['error_integral', 'error'])"
   ]
  },
  {
   "cell_type": "code",
   "execution_count": null,
   "id": "e376daec-c353-4cfd-a160-966a34b7a183",
   "metadata": {},
   "outputs": [],
   "source": [
    "df_new.to_csv('new.csv.gz', index=False)\n",
    "df_old.to_csv('old.csv.gz', index=False)"
   ]
  },
  {
   "cell_type": "code",
   "execution_count": null,
   "id": "1406c651-0769-4f7b-9e8c-0d7ca3c3acc8",
   "metadata": {},
   "outputs": [],
   "source": []
  },
  {
   "cell_type": "code",
   "execution_count": null,
   "id": "28a5ee13-411d-449e-ab38-03da977ff6b0",
   "metadata": {},
   "outputs": [],
   "source": [
    "all_df = pd.concat((df_new, df_old), axis=1)"
   ]
  },
  {
   "cell_type": "code",
   "execution_count": null,
   "id": "37e293cd-c53d-47ec-ba1f-a3d2c833e054",
   "metadata": {},
   "outputs": [],
   "source": [
    "all_df.head(10)"
   ]
  },
  {
   "cell_type": "code",
   "execution_count": null,
   "id": "ff17e854-3ff9-47cf-94c5-4fc01dc48c57",
   "metadata": {},
   "outputs": [],
   "source": [
    "all_df['output_new'].equals(all_df['output_old'])"
   ]
  },
  {
   "cell_type": "code",
   "execution_count": null,
   "id": "1f643319-6113-40ea-93e0-dd8ed9696d11",
   "metadata": {},
   "outputs": [],
   "source": [
    "all_df['p_output_new'].equals(all_df['p_output_old'])"
   ]
  },
  {
   "cell_type": "code",
   "execution_count": null,
   "id": "1e5de704-4c1c-4d2d-99d7-e3b8c2243ed7",
   "metadata": {},
   "outputs": [],
   "source": [
    "all_df['i_output_new'].equals(all_df['i_output_old'])"
   ]
  },
  {
   "cell_type": "code",
   "execution_count": null,
   "id": "29ef22fc-04ee-4f8d-88e8-73b924074bd7",
   "metadata": {},
   "outputs": [],
   "source": []
  }
 ],
 "metadata": {
  "kernelspec": {
   "display_name": "venv",
   "language": "python",
   "name": "venv"
  },
  "language_info": {
   "codemirror_mode": {
    "name": "ipython",
    "version": 3
   },
   "file_extension": ".py",
   "mimetype": "text/x-python",
   "name": "python",
   "nbconvert_exporter": "python",
   "pygments_lexer": "ipython3",
   "version": "3.11.0"
  }
 },
 "nbformat": 4,
 "nbformat_minor": 5
}
