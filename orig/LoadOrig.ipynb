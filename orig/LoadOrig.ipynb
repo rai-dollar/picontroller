{
 "cells": [
  {
   "cell_type": "code",
   "execution_count": 1,
   "id": "6b35b834-dceb-4ed8-8319-64198b27d6bf",
   "metadata": {},
   "outputs": [],
   "source": [
    "#import solcx\n",
    "#solcx.install_solc('0.8.28')"
   ]
  },
  {
   "cell_type": "code",
   "execution_count": 2,
   "id": "99740bfc-1076-4a13-aa71-c6e2afc0c82d",
   "metadata": {},
   "outputs": [],
   "source": [
    "#%pip install ape-solidity"
   ]
  },
  {
   "cell_type": "code",
   "execution_count": 3,
   "id": "55a731a6-cddf-4603-a08d-bc6c42d49a96",
   "metadata": {},
   "outputs": [],
   "source": [
    "#%pip install eth-tester"
   ]
  },
  {
   "cell_type": "code",
   "execution_count": 4,
   "id": "7efe6c6b-ba7a-44ba-a429-95d2696617ae",
   "metadata": {},
   "outputs": [],
   "source": [
    "import shutil\n",
    "import time\n",
    "import pandas as pd"
   ]
  },
  {
   "cell_type": "code",
   "execution_count": 5,
   "id": "31840f00-0ffa-4386-b5ff-b4dc3746679a",
   "metadata": {},
   "outputs": [],
   "source": [
    "from ape import project\n",
    "from ape import Project\n",
    "from ape import networks\n",
    "\n",
    "from ape import chain\n",
    "from ape import accounts\n",
    "\n",
    "from ape.logging import logger, LogLevel\n",
    "\n",
    "\n",
    "logger.set_level(LogLevel.WARNING)\n",
    "sender = accounts.test_accounts[0]"
   ]
  },
  {
   "cell_type": "code",
   "execution_count": 6,
   "id": "867c10ce-0c39-4aaf-bef0-acd46c32f58e",
   "metadata": {},
   "outputs": [
    {
     "name": "stdout",
     "output_type": "stream",
     "text": [
      "can't delete\n"
     ]
    }
   ],
   "source": [
    "#orig = Project('.')\n",
    "#a = orig.get_contract('PIController.sol')\n",
    "try:\n",
    "    shutil.rmtree(\"src/.ipynb_checkpoints\")\n",
    "except:\n",
    "    print(\"can't delete\")\n",
    "    pass\n",
    "old_pi = project.get_contract(\"PIController\") "
   ]
  },
  {
   "cell_type": "code",
   "execution_count": null,
   "id": "435dcc08-a5d4-4420-b4d9-1a88aa48619f",
   "metadata": {},
   "outputs": [],
   "source": []
  },
  {
   "cell_type": "code",
   "execution_count": 7,
   "id": "2bd871ba-cbd9-42a5-a4c0-75cf25e2f1cd",
   "metadata": {},
   "outputs": [],
   "source": [
    "new_pi = project.get_contract(\"PIControllerNew\") "
   ]
  },
  {
   "cell_type": "code",
   "execution_count": 8,
   "id": "a93438fa-09b1-4ba6-bd13-9b11a6e2180c",
   "metadata": {},
   "outputs": [],
   "source": [
    "rpc = 'foundry'"
   ]
  },
  {
   "cell_type": "code",
   "execution_count": null,
   "id": "45c32f81-9d75-4975-9b64-e5e6fc7f2149",
   "metadata": {},
   "outputs": [],
   "source": []
  },
  {
   "cell_type": "code",
   "execution_count": 9,
   "id": "690a4647-acdb-4de5-8cf0-f0496c75f80b",
   "metadata": {},
   "outputs": [],
   "source": [
    "kp = 222002205862\n",
    "ki = 25000\n",
    "\n",
    "kp = 222002205862000000\n",
    "ki = 250000000000000000\n",
    "\n",
    "coBias = 0\n",
    "perSecondIntegralLeak = 999997208243937652252849536 #1% per hour\n",
    "#perSecondIntegralLeak = int(10**27)\n",
    "outputUpperBound = 18640000000000000000\n",
    "outputLowerBound = -51034000000000000000\n",
    "\n",
    "importedState = [0,0,0]\n",
    "with networks.ethereum.local.use_provider(rpc):\n",
    "    old_pi_c = old_pi.deploy(\n",
    "            b'test control variable',\n",
    "            kp,\n",
    "            ki,\n",
    "            coBias,\n",
    "            perSecondIntegralLeak,\n",
    "            outputUpperBound,\n",
    "            outputLowerBound,\n",
    "            importedState,\n",
    "            sender=sender\n",
    "          )"
   ]
  },
  {
   "cell_type": "code",
   "execution_count": 10,
   "id": "dd628b63-94ee-46e6-8b65-3bec99ac4a77",
   "metadata": {},
   "outputs": [],
   "source": [
    "with networks.ethereum.local.use_provider(rpc):\n",
    "    new_pi_c = new_pi.deploy(\n",
    "            b'test control variable',\n",
    "            kp,\n",
    "            ki,\n",
    "            coBias,\n",
    "            perSecondIntegralLeak,\n",
    "            outputUpperBound,\n",
    "            outputLowerBound,\n",
    "            importedState,\n",
    "            sender=sender\n",
    "          )"
   ]
  },
  {
   "cell_type": "code",
   "execution_count": null,
   "id": "331dc2de-034b-42c4-ab98-827a130400f4",
   "metadata": {},
   "outputs": [],
   "source": []
  },
  {
   "cell_type": "code",
   "execution_count": 11,
   "id": "61ff982e-7dff-48f5-80a4-bf2dfe861d08",
   "metadata": {},
   "outputs": [],
   "source": [
    "with networks.ethereum.local.use_provider(rpc):\n",
    "    new_pi_c.modifyParametersAddr('seedProposer',  sender, sender=sender)"
   ]
  },
  {
   "cell_type": "code",
   "execution_count": 12,
   "id": "acbfc82c-17ca-4e0b-94b5-83b3846c907c",
   "metadata": {},
   "outputs": [],
   "source": [
    "# not workinging, so commented out seedProposer requirement\n",
    "#with networks.ethereum.local.use_provider(\"test\"):\n",
    "#    old_pi_c.modifyParameters(b\"seedProposer\",  sender, sender=sender)"
   ]
  },
  {
   "cell_type": "code",
   "execution_count": 13,
   "id": "5ad68668-8cbc-4f33-bcf3-30019b6385f7",
   "metadata": {},
   "outputs": [],
   "source": [
    "n = 20000\n",
    "old_values = []\n",
    "new_values = []"
   ]
  },
  {
   "cell_type": "code",
   "execution_count": 14,
   "id": "5c96b66e-3ff8-4818-9e50-c71d9c6588bf",
   "metadata": {},
   "outputs": [],
   "source": [
    "with networks.ethereum.local.use_provider(rpc):\n",
    "    chain.provider.auto_mine = False\n",
    "    for i in range(n):\n",
    "        receipt_old = old_pi_c.update(int(1/100*1e27), sender=sender)\n",
    "        chain.mine(1, timestamp=chain.blocks.head.timestamp + 12)\n",
    "        old_values.append(list(receipt_old.return_value) + [chain.blocks.head.timestamp])\n"
   ]
  },
  {
   "cell_type": "code",
   "execution_count": 15,
   "id": "4fe303ec-ae4f-4a6c-9970-68da3617d806",
   "metadata": {},
   "outputs": [],
   "source": [
    "with networks.ethereum.local.use_provider(rpc):\n",
    "    chain.provider.auto_mine = False\n",
    "    for i in range(n):\n",
    "        receipt_new = new_pi_c.update(int(1/100*1e27), sender=sender)\n",
    "        chain.mine(1, timestamp=chain.blocks.head.timestamp + 12)\n",
    "        new_values.append(list(receipt_new.return_value) + [chain.blocks.head.timestamp])"
   ]
  },
  {
   "cell_type": "code",
   "execution_count": 16,
   "id": "bfa35711-5475-489e-b90c-e0fc4371451d",
   "metadata": {},
   "outputs": [],
   "source": [
    "df_new = pd.DataFrame(new_values, columns = ['output_new', 'p_output_new', 'i_output_new', 'ts_new'])\n",
    "df_old = pd.DataFrame(old_values, columns = ['output_old', 'p_output_old', 'i_output_old', 'ts_old'])\n",
    "#df = pd.DataFrame(values, columns = ['error_integral', 'error'])"
   ]
  },
  {
   "cell_type": "code",
   "execution_count": 17,
   "id": "e376daec-c353-4cfd-a160-966a34b7a183",
   "metadata": {},
   "outputs": [],
   "source": [
    "df_new.to_csv('new.csv.gz', index=False)\n",
    "df_old.to_csv('old.csv.gz', index=False)"
   ]
  },
  {
   "cell_type": "code",
   "execution_count": null,
   "id": "1406c651-0769-4f7b-9e8c-0d7ca3c3acc8",
   "metadata": {},
   "outputs": [],
   "source": []
  },
  {
   "cell_type": "code",
   "execution_count": 18,
   "id": "28a5ee13-411d-449e-ab38-03da977ff6b0",
   "metadata": {},
   "outputs": [],
   "source": [
    "all_df = pd.concat((df_new, df_old), axis=1)"
   ]
  },
  {
   "cell_type": "code",
   "execution_count": 19,
   "id": "37e293cd-c53d-47ec-ba1f-a3d2c833e054",
   "metadata": {},
   "outputs": [
    {
     "data": {
      "text/html": [
       "<div>\n",
       "<style scoped>\n",
       "    .dataframe tbody tr th:only-of-type {\n",
       "        vertical-align: middle;\n",
       "    }\n",
       "\n",
       "    .dataframe tbody tr th {\n",
       "        vertical-align: top;\n",
       "    }\n",
       "\n",
       "    .dataframe thead th {\n",
       "        text-align: right;\n",
       "    }\n",
       "</style>\n",
       "<table border=\"1\" class=\"dataframe\">\n",
       "  <thead>\n",
       "    <tr style=\"text-align: right;\">\n",
       "      <th></th>\n",
       "      <th>output_new</th>\n",
       "      <th>p_output_new</th>\n",
       "      <th>i_output_new</th>\n",
       "      <th>ts_new</th>\n",
       "      <th>output_old</th>\n",
       "      <th>p_output_old</th>\n",
       "      <th>i_output_old</th>\n",
       "      <th>ts_old</th>\n",
       "    </tr>\n",
       "  </thead>\n",
       "  <tbody>\n",
       "    <tr>\n",
       "      <th>0</th>\n",
       "      <td>18640000000000000000</td>\n",
       "      <td>2220022058620000201127263</td>\n",
       "      <td>0</td>\n",
       "      <td>1736094013</td>\n",
       "      <td>18640000000000000000</td>\n",
       "      <td>2220022058620000201127263</td>\n",
       "      <td>0</td>\n",
       "      <td>1735854013</td>\n",
       "    </tr>\n",
       "    <tr>\n",
       "      <th>1</th>\n",
       "      <td>18640000000000000000</td>\n",
       "      <td>2220022058620000201127263</td>\n",
       "      <td>30000000000000002717908992</td>\n",
       "      <td>1736094025</td>\n",
       "      <td>18640000000000000000</td>\n",
       "      <td>2220022058620000201127263</td>\n",
       "      <td>30000000000000002717908992</td>\n",
       "      <td>1735854025</td>\n",
       "    </tr>\n",
       "    <tr>\n",
       "      <th>2</th>\n",
       "      <td>18640000000000000000</td>\n",
       "      <td>2220022058620000201127263</td>\n",
       "      <td>59998994983249342425491297</td>\n",
       "      <td>1736094037</td>\n",
       "      <td>18640000000000000000</td>\n",
       "      <td>2220022058620000201127263</td>\n",
       "      <td>59998994983249342425491297</td>\n",
       "      <td>1735854037</td>\n",
       "    </tr>\n",
       "    <tr>\n",
       "      <th>3</th>\n",
       "      <td>18640000000000000000</td>\n",
       "      <td>2220022058620000201127263</td>\n",
       "      <td>59997990000167301718939124</td>\n",
       "      <td>1736094049</td>\n",
       "      <td>18640000000000000000</td>\n",
       "      <td>2220022058620000201127263</td>\n",
       "      <td>59997990000167301718939124</td>\n",
       "      <td>1735854049</td>\n",
       "    </tr>\n",
       "    <tr>\n",
       "      <th>4</th>\n",
       "      <td>18640000000000000000</td>\n",
       "      <td>2220022058620000201127263</td>\n",
       "      <td>59996985050752755398515228</td>\n",
       "      <td>1736094061</td>\n",
       "      <td>18640000000000000000</td>\n",
       "      <td>2220022058620000201127263</td>\n",
       "      <td>59996985050752755398515228</td>\n",
       "      <td>1735854061</td>\n",
       "    </tr>\n",
       "    <tr>\n",
       "      <th>5</th>\n",
       "      <td>18640000000000000000</td>\n",
       "      <td>2220022058620000201127263</td>\n",
       "      <td>59995980135004575584359246</td>\n",
       "      <td>1736094073</td>\n",
       "      <td>18640000000000000000</td>\n",
       "      <td>2220022058620000201127263</td>\n",
       "      <td>59995980135004575584359246</td>\n",
       "      <td>1735854073</td>\n",
       "    </tr>\n",
       "    <tr>\n",
       "      <th>6</th>\n",
       "      <td>18640000000000000000</td>\n",
       "      <td>2220022058620000201127263</td>\n",
       "      <td>59994975252921634434395420</td>\n",
       "      <td>1736094085</td>\n",
       "      <td>18640000000000000000</td>\n",
       "      <td>2220022058620000201127263</td>\n",
       "      <td>59994975252921634434395420</td>\n",
       "      <td>1735854085</td>\n",
       "    </tr>\n",
       "    <tr>\n",
       "      <th>7</th>\n",
       "      <td>18640000000000000000</td>\n",
       "      <td>2220022058620000201127263</td>\n",
       "      <td>59993970404502804144331330</td>\n",
       "      <td>1736094097</td>\n",
       "      <td>18640000000000000000</td>\n",
       "      <td>2220022058620000201127263</td>\n",
       "      <td>59993970404502804144331330</td>\n",
       "      <td>1735854097</td>\n",
       "    </tr>\n",
       "    <tr>\n",
       "      <th>8</th>\n",
       "      <td>18640000000000000000</td>\n",
       "      <td>2220022058620000201127263</td>\n",
       "      <td>59992965589746956947656630</td>\n",
       "      <td>1736094109</td>\n",
       "      <td>18640000000000000000</td>\n",
       "      <td>2220022058620000201127263</td>\n",
       "      <td>59992965589746956947656630</td>\n",
       "      <td>1735854109</td>\n",
       "    </tr>\n",
       "    <tr>\n",
       "      <th>9</th>\n",
       "      <td>18640000000000000000</td>\n",
       "      <td>2220022058620000201127263</td>\n",
       "      <td>59991960808652965115641783</td>\n",
       "      <td>1736094121</td>\n",
       "      <td>18640000000000000000</td>\n",
       "      <td>2220022058620000201127263</td>\n",
       "      <td>59991960808652965115641783</td>\n",
       "      <td>1735854121</td>\n",
       "    </tr>\n",
       "  </tbody>\n",
       "</table>\n",
       "</div>"
      ],
      "text/plain": [
       "             output_new               p_output_new  \\\n",
       "0  18640000000000000000  2220022058620000201127263   \n",
       "1  18640000000000000000  2220022058620000201127263   \n",
       "2  18640000000000000000  2220022058620000201127263   \n",
       "3  18640000000000000000  2220022058620000201127263   \n",
       "4  18640000000000000000  2220022058620000201127263   \n",
       "5  18640000000000000000  2220022058620000201127263   \n",
       "6  18640000000000000000  2220022058620000201127263   \n",
       "7  18640000000000000000  2220022058620000201127263   \n",
       "8  18640000000000000000  2220022058620000201127263   \n",
       "9  18640000000000000000  2220022058620000201127263   \n",
       "\n",
       "                 i_output_new      ts_new            output_old  \\\n",
       "0                           0  1736094013  18640000000000000000   \n",
       "1  30000000000000002717908992  1736094025  18640000000000000000   \n",
       "2  59998994983249342425491297  1736094037  18640000000000000000   \n",
       "3  59997990000167301718939124  1736094049  18640000000000000000   \n",
       "4  59996985050752755398515228  1736094061  18640000000000000000   \n",
       "5  59995980135004575584359246  1736094073  18640000000000000000   \n",
       "6  59994975252921634434395420  1736094085  18640000000000000000   \n",
       "7  59993970404502804144331330  1736094097  18640000000000000000   \n",
       "8  59992965589746956947656630  1736094109  18640000000000000000   \n",
       "9  59991960808652965115641783  1736094121  18640000000000000000   \n",
       "\n",
       "                p_output_old                i_output_old      ts_old  \n",
       "0  2220022058620000201127263                           0  1735854013  \n",
       "1  2220022058620000201127263  30000000000000002717908992  1735854025  \n",
       "2  2220022058620000201127263  59998994983249342425491297  1735854037  \n",
       "3  2220022058620000201127263  59997990000167301718939124  1735854049  \n",
       "4  2220022058620000201127263  59996985050752755398515228  1735854061  \n",
       "5  2220022058620000201127263  59995980135004575584359246  1735854073  \n",
       "6  2220022058620000201127263  59994975252921634434395420  1735854085  \n",
       "7  2220022058620000201127263  59993970404502804144331330  1735854097  \n",
       "8  2220022058620000201127263  59992965589746956947656630  1735854109  \n",
       "9  2220022058620000201127263  59991960808652965115641783  1735854121  "
      ]
     },
     "execution_count": 19,
     "metadata": {},
     "output_type": "execute_result"
    }
   ],
   "source": [
    "all_df.head(10)"
   ]
  },
  {
   "cell_type": "code",
   "execution_count": 20,
   "id": "ff17e854-3ff9-47cf-94c5-4fc01dc48c57",
   "metadata": {},
   "outputs": [
    {
     "data": {
      "text/plain": [
       "True"
      ]
     },
     "execution_count": 20,
     "metadata": {},
     "output_type": "execute_result"
    }
   ],
   "source": [
    "all_df['output_new'].equals(all_df['output_old'])"
   ]
  },
  {
   "cell_type": "code",
   "execution_count": 21,
   "id": "1f643319-6113-40ea-93e0-dd8ed9696d11",
   "metadata": {},
   "outputs": [
    {
     "data": {
      "text/plain": [
       "True"
      ]
     },
     "execution_count": 21,
     "metadata": {},
     "output_type": "execute_result"
    }
   ],
   "source": [
    "all_df['p_output_new'].equals(all_df['p_output_old'])"
   ]
  },
  {
   "cell_type": "code",
   "execution_count": 22,
   "id": "1e5de704-4c1c-4d2d-99d7-e3b8c2243ed7",
   "metadata": {},
   "outputs": [
    {
     "data": {
      "text/plain": [
       "True"
      ]
     },
     "execution_count": 22,
     "metadata": {},
     "output_type": "execute_result"
    }
   ],
   "source": [
    "all_df['i_output_new'].equals(all_df['i_output_old'])"
   ]
  },
  {
   "cell_type": "code",
   "execution_count": 23,
   "id": "29ef22fc-04ee-4f8d-88e8-73b924074bd7",
   "metadata": {},
   "outputs": [
    {
     "data": {
      "text/plain": [
       "20000"
      ]
     },
     "execution_count": 23,
     "metadata": {},
     "output_type": "execute_result"
    }
   ],
   "source": [
    "len(all_df)"
   ]
  },
  {
   "cell_type": "code",
   "execution_count": null,
   "id": "7e5dae28-1292-478a-8ade-f497c3d2db91",
   "metadata": {},
   "outputs": [],
   "source": []
  }
 ],
 "metadata": {
  "kernelspec": {
   "display_name": "venv",
   "language": "python",
   "name": "venv"
  },
  "language_info": {
   "codemirror_mode": {
    "name": "ipython",
    "version": 3
   },
   "file_extension": ".py",
   "mimetype": "text/x-python",
   "name": "python",
   "nbconvert_exporter": "python",
   "pygments_lexer": "ipython3",
   "version": "3.11.0"
  }
 },
 "nbformat": 4,
 "nbformat_minor": 5
}
